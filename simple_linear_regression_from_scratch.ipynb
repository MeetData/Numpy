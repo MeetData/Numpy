{
 "cells": [
  {
   "cell_type": "markdown",
   "metadata": {},
   "source": [
    "<font color='Red'>$\n",
    "{\\huge Simple \\ Linear \\ Regression \\ from \\ Scratch }$</font>\n",
    "\n"
   ]
  },
  {
   "cell_type": "markdown",
   "metadata": {},
   "source": [
    "Author: Meet Data\n",
    "    \n",
    "YouTube Lecture Link: https://youtu.be/Fc-reyy2J9I"
   ]
  },
  {
   "cell_type": "markdown",
   "metadata": {},
   "source": [
    "<font color='Blue'>${\\huge Matrix  }$</font>"
   ]
  },
  {
   "cell_type": "markdown",
   "metadata": {},
   "source": [
    "This tutorial shows how to do simple linear regression from scratch just using NumPy. The following is the function:\n",
    "\n",
    "$$Y = XB $$\n",
    "\n",
    "\n",
    "\n",
    "> where,\n",
    "\n",
    "> $Y=\\left[ \\begin{array} {} y_1 \\\\ y_2 \\\\ y_3 \\\\ ..\\\\y_n   \\end{array} \\right]$\n",
    "\n",
    "> $X= \\left[ \\begin{array} {} 1 & x_1 \\\\ 1 & x_2 \\\\ 1 & x_3 \\\\..\\\\1 & x_n   \\end{array} \\right]$\n",
    "\n",
    "> $B= \\left[ \\begin{array} {} b_0 \\\\b_1   \\end{array} \\right] $\n",
    "\n",
    "\n",
    "$x_1, x_2 ...x_n $ and $y_1, y_2, ..., y_n$ are observations, namely sample data. $b_0$ and $b_1$ are ones that we need to calculate from the sample data."
   ]
  },
  {
   "cell_type": "markdown",
   "metadata": {},
   "source": [
    ">  We can write $Y=XB$ using an expanded format, namely matrix format, as well:\n",
    "\n",
    "$$\\left[ \\begin{array} {} y_1 \\\\ y_2 \\\\ y_3 \\\\ ..\\\\y_n   \\end{array} \\right] = \\left[ \\begin{array} {} b_0+b_1 x_1 \\\\ b_0+b_1 x_2 \\\\ b_0+b_1 x_3 \\\\..\\\\b_0+b_1 x_n   \\end{array} \\right] $$"
   ]
  },
  {
   "cell_type": "markdown",
   "metadata": {},
   "source": [
    "We can multiple the transpose of matrix, namely $X^T$ on both sizes:\n",
    "\n",
    "$$X^TY =X^T X B $$\n",
    "\n"
   ]
  },
  {
   "cell_type": "markdown",
   "metadata": {},
   "source": [
    "Next, we can multiple the inverse matrix of $X^TX$ on both sizes:\n",
    "\n",
    "$$(X^T X)^{-1} X^TY =(X^T X)^{-1} X^T X B $$\n",
    "\n",
    "$$(X^T X)^{-1} X^TY = B $$\n"
   ]
  },
  {
   "cell_type": "markdown",
   "metadata": {},
   "source": [
    "Thus, the following is the final matrix calculation we need to work on to calculate $b_0$ and $b_1$:\n",
    "\n",
    "$$B =(X^T X)^{-1} X^TY$$\n",
    "\n",
    "Note: If we use NumPy, we do not really need to know how to do this manually. We just need to know how to write the formula statement using functions in NumPy.\n"
   ]
  },
  {
   "cell_type": "markdown",
   "metadata": {},
   "source": [
    "<font color='Blue'>${\\huge Example: Data \\ and \\ Code }$</font>"
   ]
  },
  {
   "cell_type": "markdown",
   "metadata": {},
   "source": [
    "Suppose X is the price and Y is sales and we would like to see whether price X can predict sales Y.\n",
    "\n",
    "$$Sales = Price \\times B$$"
   ]
  },
  {
   "cell_type": "markdown",
   "metadata": {},
   "source": [
    "<font color='Blue'>${\\large Generating \\ Data  }$</font>"
   ]
  },
  {
   "cell_type": "code",
   "execution_count": 18,
   "metadata": {},
   "outputs": [
    {
     "name": "stdout",
     "output_type": "stream",
     "text": [
      "X matrix:\n",
      " [[1. 2.]\n",
      " [1. 6.]\n",
      " [1. 7.]\n",
      " [1. 8.]\n",
      " [1. 5.]]\n"
     ]
    }
   ],
   "source": [
    "import numpy as np\n",
    "X_matrix = np.array([np.ones(5),[2,6,7,8,5]])\n",
    "X_matrix=X_matrix.T\n",
    "print(\"X matrix:\\n\", X_matrix)"
   ]
  },
  {
   "cell_type": "code",
   "execution_count": 19,
   "metadata": {},
   "outputs": [
    {
     "name": "stdout",
     "output_type": "stream",
     "text": [
      "Y matrix:\n",
      " [[50]\n",
      " [30]\n",
      " [10]\n",
      " [ 5]\n",
      " [45]]\n"
     ]
    }
   ],
   "source": [
    "Y_matrix = np.array([[50,30,10,5,45]])\n",
    "Y_matrix=Y_matrix.T\n",
    "print(\"Y matrix:\\n\",Y_matrix)"
   ]
  },
  {
   "cell_type": "markdown",
   "metadata": {},
   "source": [
    "<font color='Blue'>${\\large Matrix \\ Calculation  }$</font>"
   ]
  },
  {
   "cell_type": "markdown",
   "metadata": {},
   "source": [
    "Since we have got the data, we need to use NumPy to do the calculation. We need to use 3 basic NumPy functions.\n",
    "- np.transpose() (or.T)\n",
    "- np.matmul() (or @)\n",
    "- np.linalg.inv() "
   ]
  },
  {
   "cell_type": "markdown",
   "metadata": {},
   "source": [
    "<font color='Red'>Step 1:</font> $X^T$"
   ]
  },
  {
   "cell_type": "code",
   "execution_count": 20,
   "metadata": {},
   "outputs": [
    {
     "name": "stdout",
     "output_type": "stream",
     "text": [
      "X matrix Transpose:\n",
      " [[1. 1. 1. 1. 1.]\n",
      " [2. 6. 7. 8. 5.]]\n"
     ]
    }
   ],
   "source": [
    "X_matrix_T=X_matrix.transpose()\n",
    "print(\"X matrix Transpose:\\n\",X_matrix_T)"
   ]
  },
  {
   "cell_type": "markdown",
   "metadata": {},
   "source": [
    "<font color='Red'>Step 2:</font> $X^TX$"
   ]
  },
  {
   "cell_type": "code",
   "execution_count": 21,
   "metadata": {},
   "outputs": [
    {
     "name": "stdout",
     "output_type": "stream",
     "text": [
      "[[  5.  28.]\n",
      " [ 28. 178.]]\n"
     ]
    },
    {
     "data": {
      "text/plain": [
       "array([[  5.,  28.],\n",
       "       [ 28., 178.]])"
      ]
     },
     "execution_count": 21,
     "metadata": {},
     "output_type": "execute_result"
    }
   ],
   "source": [
    "X_T_X=np.matmul(X_matrix_T,X_matrix)\n",
    "print(X_T_X)\n",
    "X_matrix_T@X_matrix"
   ]
  },
  {
   "cell_type": "markdown",
   "metadata": {},
   "source": [
    "<font color='Red'>Step 3:</font> $(X^TX)^{-1}$"
   ]
  },
  {
   "cell_type": "code",
   "execution_count": 22,
   "metadata": {},
   "outputs": [
    {
     "name": "stdout",
     "output_type": "stream",
     "text": [
      "[[ 1.67924528 -0.26415094]\n",
      " [-0.26415094  0.04716981]]\n"
     ]
    }
   ],
   "source": [
    "X_T_X_Inv=np.linalg.inv(X_T_X) \n",
    "print(X_T_X_Inv)"
   ]
  },
  {
   "cell_type": "markdown",
   "metadata": {},
   "source": [
    "<font color='Red'>Step 4:</font> $(X^T X)^{-1} X^TY$"
   ]
  },
  {
   "cell_type": "code",
   "execution_count": 23,
   "metadata": {},
   "outputs": [
    {
     "data": {
      "text/plain": [
       "array([[72.64150943],\n",
       "       [-7.97169811]])"
      ]
     },
     "execution_count": 23,
     "metadata": {},
     "output_type": "execute_result"
    }
   ],
   "source": [
    "X_T_X_Inv@X_matrix_T@Y_matrix"
   ]
  },
  {
   "cell_type": "markdown",
   "metadata": {},
   "source": [
    "<font color='Blue'>${\\large Final \\ Result : }$</font> $Sales =72.64-7.97 \\times Price$"
   ]
  },
  {
   "cell_type": "markdown",
   "metadata": {},
   "source": [
    "<font color='Red'>$\n",
    "{\\huge Verify \\ Using \\ Scipy }$ </font>"
   ]
  },
  {
   "cell_type": "code",
   "execution_count": 24,
   "metadata": {},
   "outputs": [
    {
     "name": "stdout",
     "output_type": "stream",
     "text": [
      "LinregressResult(slope=-7.971698113207548, intercept=72.64150943396227, rvalue=-0.9091278707404705, pvalue=0.03243170864029393, stderr=2.1086189512501154)\n"
     ]
    }
   ],
   "source": [
    "import scipy.stats\n",
    "X=(2,6,7,8,5)\n",
    "Y=(50,30,10,5,45)\n",
    "res = scipy.stats.linregress(X,Y)\n",
    "print(res)"
   ]
  },
  {
   "cell_type": "code",
   "execution_count": 25,
   "metadata": {},
   "outputs": [
    {
     "data": {
      "image/png": "[encoded data removed]",
      "text/plain": [
       "<Figure size 432x288 with 1 Axes>"
      ]
     },
     "metadata": {
      "needs_background": "light"
     },
     "output_type": "display_data"
    }
   ],
   "source": [
    "import matplotlib.pyplot as plt\n",
    "plt.plot(X, Y, 'o', label='original data')\n",
    "plt.plot(X, res.intercept + res.slope*np.array(X), 'r', label='fitted line')\n",
    "\n",
    "plt.xlabel(\"Price\")\n",
    "plt.ylabel('Sales')\n",
    "plt.legend()\n",
    "plt.show()"
   ]
  },
  {
   "cell_type": "markdown",
   "metadata": {},
   "source": [
    "\n",
    "\n",
    "\n",
    "<font color='Blue'>${\\large Appendix : }$</font> \n",
    "\n",
    "\n",
    "$$X^TY =X^T X B $$\n",
    "\n",
    "\n",
    "\n"
   ]
  },
  {
   "cell_type": "markdown",
   "metadata": {},
   "source": [
    "> The following is the expanded version:\n",
    "\n",
    "$$ \\left[ \\begin{array} {} 1 & x_1 \\\\ 1 & x_2 \\\\ 1 & x_3 \\\\..\\\\1 & x_n   \\end{array} \\right] ^T \\left[ \\begin{array} {} y_1 \\\\ y_2 \\\\ y_3 \\\\ ..\\\\y_n   \\end{array} \\right] = \\left[ \\begin{array} {} 1 & x_1 \\\\ 1 & x_2 \\\\ 1 & x_3 \\\\..\\\\1 & x_n   \\end{array} \\right] ^T \\left[ \\begin{array} {} 1 & x_1 \\\\ 1 & x_2 \\\\ 1 & x_3 \\\\..\\\\1 & x_n   \\end{array} \\right]\\left[ \\begin{array} {} b_0 \\\\b_1   \\end{array} \\right]$$"
   ]
  },
  {
   "cell_type": "markdown",
   "metadata": {},
   "source": [
    "> We can write $X^T$ in another way:\n",
    "\n",
    "$$ \\left[ \\begin{array} {} 1 & 1 &1 &.. & 1 \\\\ x_1 & x_2 & x_3 & .. & x_n   \\end{array} \\right] \\left[ \\begin{array} {} y_1 \\\\ y_2 \\\\ y_3 \\\\ ..\\\\y_n   \\end{array} \\right] =  \\left[ \\begin{array} {} 1 & 1 &1 &.. & 1 \\\\ x_1 & x_2 & x_3 & .. & x_n   \\end{array} \\right] \\left[ \\begin{array} {} 1 & x_1 \\\\ 1 & x_2 \\\\ 1 & x_3 \\\\..\\\\1 & x_n   \\end{array} \\right]\\left[ \\begin{array} {} b_0 \\\\b_1   \\end{array} \\right]$$"
   ]
  },
  {
   "cell_type": "markdown",
   "metadata": {},
   "source": [
    "> We can calculate $X^TY$ and $X^TX$:\n",
    "\n",
    "\n",
    "$$ \\left[ \\begin{array} {} y_1+y_2+y_3+...+y_n  \\\\ x_1y_1+x_2y_2+x_3y_3+...+x_ny_n   \\end{array} \\right] =  \\left[ \\begin{array} {} 1+1+1+...+1 & x_1+x_2+x_3+...+x_n \\\\ x_1+x_2+x_3+...+x_n & x_1^2+x_2^2+x_3^2+...+x_n^2\\end{array} \\right]  \\left[ \\begin{array} {} b_0 \\\\b_1   \\end{array} \\right]$$"
   ]
  }
 ],
 "metadata": {
  "kernelspec": {
   "display_name": "Python 3 (ipykernel)",
   "language": "python",
   "name": "python3"
  },
  "language_info": {
   "codemirror_mode": {
    "name": "ipython",
    "version": 3
   },
   "file_extension": ".py",
   "mimetype": "text/x-python",
   "name": "python",
   "nbconvert_exporter": "python",
   "pygments_lexer": "ipython3",
   "version": "3.9.7"
  }
 },
 "nbformat": 4,
 "nbformat_minor": 4
}
